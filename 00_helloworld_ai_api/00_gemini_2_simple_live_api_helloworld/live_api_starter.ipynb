{
  "cells": [
    {
      "cell_type": "markdown",
      "metadata": {
        "id": "view-in-github",
        "colab_type": "text"
      },
      "source": [
        "<a href=\"https://colab.research.google.com/github/Abuzar51214/Agentic-Ai-Q2/blob/main/00_helloworld_ai_api/00_gemini_2_simple_live_api_helloworld/live_api_starter.ipynb\" target=\"_parent\"><img src=\"https://colab.research.google.com/assets/colab-badge.svg\" alt=\"Open In Colab\"/></a>"
      ]
    },
    {
      "cell_type": "markdown",
      "metadata": {
        "id": "Tce3stUlHN0L"
      },
      "source": [
        "##### Copyright 2024 Google LLC."
      ]
    },
    {
      "cell_type": "code",
      "execution_count": null,
      "metadata": {
        "cellView": "form",
        "id": "tuOe1ymfHZPu"
      },
      "outputs": [],
      "source": [
        "#@title Licensed under the Apache License, Version 2.0 (the \"License\");\n",
        "# you may not use this file except in compliance with the License.\n",
        "# You may obtain a copy of the License at\n",
        "#\n",
        "# https://www.apache.org/licenses/LICENSE-2.0\n",
        "#\n",
        "# Unless required by applicable law or agreed to in writing, software\n",
        "# distributed under the License is distributed on an \"AS IS\" BASIS,\n",
        "# WITHOUT WARRANTIES OR CONDITIONS OF ANY KIND, either express or implied.\n",
        "# See the License for the specific language governing permissions and\n",
        "# limitations under the License."
      ]
    },
    {
      "cell_type": "markdown",
      "metadata": {
        "id": "R5DkeFMP75as"
      },
      "source": [
        "# Live API - Quickstart"
      ]
    },
    {
      "cell_type": "markdown",
      "metadata": {
        "id": "tqktCVDm1yFo"
      },
      "source": [
        "<table align=\"left\">\n",
        "  <td>\n",
        "    <a target=\"_blank\" href=\"https://colab.research.google.com/github/panaversity/learn-agentic-ai/blob/main/00_helloworld_ai_api/00_gemini_2_simple_live_api_helloworld/live_api_starter.ipynb\"><img src=\"https://ai.google.dev/site-assets/images/docs/colab_logo_32px.png\" />Run in Google Colab</a>\n",
        "  </td>\n",
        "</table>"
      ]
    },
    {
      "cell_type": "markdown",
      "metadata": {
        "id": "iS0rHk3RBrtA"
      },
      "source": [
        "# Google Gen AI SDK (experimental)\n",
        "The new Google Gen AI SDK provides a unified interface to Gemini 2.0 through both the Gemini Developer API and the Gemini API on Vertex AI. With a few exceptions, code that runs on one platform will run on both. This means that you can prototype an application using the Developer API and then migrate the application to Vertex AI without rewriting your code.\n",
        "\n",
        "The Gen AI SDK also supports the Gemini 1.5 models.\n",
        "\n",
        "The new SDK is available in Python and Go, with Java and JavaScript coming soon.\n",
        "\n",
        "You can start using the SDK as shown below.\n",
        "\n",
        "Install the new SDK: pip install google-genai\n",
        "\n",
        "Then import the library, initialize a client, and generate content:"
      ]
    },
    {
      "cell_type": "markdown",
      "metadata": {
        "id": "Mfk6YY3G5kqp"
      },
      "source": [
        "## Setup"
      ]
    },
    {
      "cell_type": "markdown",
      "metadata": {
        "id": "d5027929de8f"
      },
      "source": [
        "### Install SDK\n",
        "\n",
        "The new **[Google Gen AI SDK](https://ai.google.dev/gemini-api/docs/sdks)** provides programmatic access to Gemini 2.0 (and previous models) using both the [Google AI for Developers](https://ai.google.dev/gemini-api/docs) and [Vertex AI](https://cloud.google.com/vertex-ai/generative-ai/docs/overview) APIs. With a few exceptions, code that runs on one platform will run on both.\n",
        "\n",
        "More details about this new SDK on the [documentation](https://ai.google.dev/gemini-api/docs/sdks) or in the [Getting started](../gemini-2/get_started.ipynb) notebook."
      ]
    },
    {
      "cell_type": "code",
      "execution_count": 1,
      "metadata": {
        "id": "46zEFO2a9FFd",
        "outputId": "1467ee39-db1b-45c5-b8ec-c018de75a112",
        "colab": {
          "base_uri": "https://localhost:8080/"
        }
      },
      "outputs": [
        {
          "output_type": "stream",
          "name": "stdout",
          "text": [
            "\u001b[?25l   \u001b[90m━━━━━━━━━━━━━━━━━━━━━━━━━━━━━━━━━━━━━━━━\u001b[0m \u001b[32m0.0/111.9 kB\u001b[0m \u001b[31m?\u001b[0m eta \u001b[36m-:--:--\u001b[0m\r\u001b[2K   \u001b[91m━━━━━━━━━━━━━━━━━━━━━━━━━━━━━━━━━━━━\u001b[0m\u001b[91m╸\u001b[0m\u001b[90m━━━\u001b[0m \u001b[32m102.4/111.9 kB\u001b[0m \u001b[31m4.3 MB/s\u001b[0m eta \u001b[36m0:00:01\u001b[0m\r\u001b[2K   \u001b[90m━━━━━━━━━━━━━━━━━━━━━━━━━━━━━━━━━━━━━━━━\u001b[0m \u001b[32m111.9/111.9 kB\u001b[0m \u001b[31m2.7 MB/s\u001b[0m eta \u001b[36m0:00:00\u001b[0m\n",
            "\u001b[?25h"
          ]
        }
      ],
      "source": [
        "!pip install -U -q google-genai"
      ]
    },
    {
      "cell_type": "markdown",
      "metadata": {
        "id": "CTIfnvCn9HvH"
      },
      "source": [
        "### Set up your API key\n",
        "\n",
        "To run the following cell, your API key must be stored in a Colab Secret named `GOOGLE_API_KEY`. If you don't already have an API key, or you're not sure how to create a Colab Secret, see [Authentication](../quickstarts/Authentication.ipynb) for an example."
      ]
    },
    {
      "cell_type": "code",
      "execution_count": 2,
      "metadata": {
        "id": "A1pkoyZb9Jm3"
      },
      "outputs": [],
      "source": [
        "from google.colab import userdata\n",
        "import os\n",
        "\n",
        "os.environ['GOOGLE_API_KEY'] = userdata.get('GOOGLE_API_KEY')"
      ]
    },
    {
      "cell_type": "markdown",
      "metadata": {
        "id": "GOOZsm7i9io6"
      },
      "source": [
        "### Import\n",
        "\n",
        "Import all the necessary modules."
      ]
    },
    {
      "cell_type": "code",
      "execution_count": null,
      "metadata": {
        "id": "Yd1vs3cP8EmS"
      },
      "outputs": [],
      "source": [
        "from google import genai"
      ]
    },
    {
      "cell_type": "markdown",
      "metadata": {
        "id": "3Hx_Gw9i0Yuv"
      },
      "source": [
        "### Initialize SDK client\n",
        "\n",
        "The client will pick up your API key from the environment variable.\n",
        "To use the live API you need to set the client version to `v1alpha`."
      ]
    },
    {
      "cell_type": "code",
      "execution_count": 3,
      "metadata": {
        "id": "HghvVpbU0Uap"
      },
      "outputs": [],
      "source": [
        "from google import genai\n",
        "client = genai.Client()"
      ]
    },
    {
      "cell_type": "markdown",
      "metadata": {
        "id": "QOov6dpG99rY"
      },
      "source": [
        "### Select a model\n",
        "\n",
        "Multimodal Live API are a new capability introduced with the [Gemini 2.0](https://ai.google.dev/gemini-api/docs/models/gemini-v2) model. It won't work with previous generation models.\n"
      ]
    },
    {
      "cell_type": "code",
      "execution_count": 4,
      "metadata": {
        "id": "27Fikag0xSaB"
      },
      "outputs": [],
      "source": [
        "MODEL: str = \"gemini-2.0-flash-exp\""
      ]
    },
    {
      "cell_type": "markdown",
      "metadata": {
        "id": "jj7gDzfDOq4h"
      },
      "source": [
        "## Text to Text\n",
        "\n",
        "The simplest way to use the Live API is as a text-to-text chat interface, but it can do **a lot** more than this."
      ]
    },
    {
      "cell_type": "code",
      "execution_count": 13,
      "metadata": {
        "colab": {
          "base_uri": "https://localhost:8080/"
        },
        "id": "dDfslcyIOqgI",
        "outputId": "79ab92e6-1fb7-4cf2-c6b4-5615fb604356"
      },
      "outputs": [
        {
          "output_type": "stream",
          "name": "stdout",
          "text": [
            "Alright, let's break down how Artificial Intelligence (AI) works. It's a broad field, so we'll focus on core concepts and common techniques. Think of AI as a spectrum, with the goal of creating machines that can perform tasks that typically require human intelligence.\n",
            "\n",
            "Here's a breakdown of the key ideas:\n",
            "\n",
            "**1. The Foundation: Data**\n",
            "\n",
            "* **Data is the Fuel:** AI algorithms learn from data. The quality and quantity of data directly impact an AI's performance. This data can be anything: text, images, audio, numbers, sensor readings, etc.\n",
            "* **Data Processing:** The data is often pre-processed to clean it, remove noise, and transform it into a format that the AI model can understand. This might involve things like:\n",
            "    * **Normalization:** Scaling data to a similar range.\n",
            "    * **Feature Extraction:** Identifying the most relevant aspects of the data.\n",
            "    * **Data Augmentation:** Creating new variations of existing data to improve learning.\n",
            "\n",
            "**2. The Learning Mechanism: Algorithms and Models**\n",
            "\n",
            "* **Algorithms:** These are sets of rules or instructions that the AI follows to process the data and learn. Different types of AI algorithms are used for different tasks.\n",
            "* **Models:** These are the mathematical representations of the patterns the AI has learned from the data. They're essentially what allows the AI to make predictions or decisions.\n",
            "* **Key Types of Algorithms:**\n",
            "    * **Machine Learning (ML):** This is a subset of AI that focuses on enabling machines to learn from data without explicit programming.\n",
            "        * **Supervised Learning:** The AI is trained on labeled data (input-output pairs), learning to map inputs to the correct outputs (e.g., classifying images of cats and dogs).\n",
            "        * **Unsupervised Learning:** The AI is trained on unlabeled data, learning to find patterns and structures on its own (e.g., clustering customers based on their purchasing behavior).\n",
            "        * **Reinforcement Learning:** The AI learns through trial and error, receiving rewards or penalties for its actions (e.g., training a robot to navigate a maze).\n",
            "    * **Deep Learning (DL):** This is a subfield of ML that uses artificial neural networks with multiple layers (\"deep\" networks).\n",
            "        * **Artificial Neural Networks (ANNs):** Inspired by the structure of the human brain, these networks consist of interconnected nodes (neurons) that process and transmit information.\n",
            "        * **Convolutional Neural Networks (CNNs):** Particularly effective for image and video recognition.\n",
            "        * **Recurrent Neural Networks (RNNs):** Good at processing sequential data like text and time series.\n",
            "    * **Other AI Techniques:**\n",
            "        * **Rule-based Systems:** Using predefined rules to make decisions.\n",
            "        * **Symbolic AI:** Representing knowledge using symbols and logical operations.\n",
            "        * **Evolutionary Algorithms:** Using concepts from natural selection to solve optimization problems.\n",
            "\n",
            "**3. The Learning Process: Training**\n",
            "\n",
            "* **Training Loop:** The AI algorithm is repeatedly fed data, and the model's parameters are adjusted based on how well it performs. This process is iterative, with the goal of minimizing errors and improving accuracy.\n",
            "* **Loss Function:** This measures the difference between the AI's predictions and the actual values. The goal is to minimize the loss function.\n",
            "* **Optimization Algorithms:** Algorithms like gradient descent are used to adjust the model's parameters to minimize the loss.\n",
            "\n",
            "**4. The Output: Prediction and Decision-Making**\n",
            "\n",
            "* **Inference:** Once the model is trained, it can be used to make predictions or decisions on new, unseen data. This process is called inference.\n",
            "* **Applications:** This is where AI becomes powerful, enabling applications like:\n",
            "    * **Image Recognition:** Identifying objects in images.\n",
            "    * **Natural Language Processing (NLP):** Understanding and generating human language.\n",
            "    * **Recommendation Systems:** Suggesting products or content.\n",
            "    * **Fraud Detection:** Identifying suspicious transactions.\n",
            "    * **Autonomous Driving:** Enabling self-driving vehicles.\n",
            "\n",
            "**Key Concepts to Remember:**\n",
            "\n",
            "* **Learning from Examples:** Most AI models learn by analyzing vast amounts of data and identifying patterns.\n",
            "* **Mathematical Foundations:** AI relies heavily on mathematics, statistics, and computer science.\n",
            "* **Iteration and Refinement:** The training process is iterative, involving constant adjustments and refinements.\n",
            "* **Not Human-Like Intelligence:** AI models are good at specific tasks but generally lack the broad, flexible intelligence of humans.\n",
            "\n",
            "**Simplified Analogy:**\n",
            "\n",
            "Imagine training a dog.\n",
            "\n",
            "* **Data:** You show the dog many pictures of cats and dogs (labeled data).\n",
            "* **Algorithm/Model:** The dog's brain tries to learn the differences between cats and dogs.\n",
            "* **Training:** You correct the dog when it makes mistakes (e.g., points to a cat when you say \"dog\").\n",
            "* **Output:** The dog can now (hopefully!) identify new cats and dogs correctly.\n",
            "\n",
            "**In a Nutshell:**\n",
            "\n",
            "AI involves using algorithms and models to learn patterns from data, enabling computers to perform tasks that typically require human intelligence. It's a rapidly evolving field with immense potential, constantly pushing the boundaries of what's possible.\n",
            "\n",
            "**Important Note:** This is a high-level overview. Each of these aspects is a complex field in itself with numerous variations and techniques. As you dive deeper into AI, you'll encounter more specialized concepts.\n",
            "\n",
            "Do you have any specific questions about a particular aspect of how AI works? I'm happy to elaborate!\n",
            "\n"
          ]
        }
      ],
      "source": [
        "response = client.models.generate_content(\n",
        "    model=MODEL,\n",
        "    contents='How does AI work?'\n",
        ")\n",
        "print(response.text)"
      ]
    }
  ],
  "metadata": {
    "colab": {
      "collapsed_sections": [
        "Tce3stUlHN0L"
      ],
      "provenance": [],
      "include_colab_link": true
    },
    "kernelspec": {
      "display_name": "Python 3",
      "name": "python3"
    }
  },
  "nbformat": 4,
  "nbformat_minor": 0
}